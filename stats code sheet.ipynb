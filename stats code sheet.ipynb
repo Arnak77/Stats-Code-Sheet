{
 "cells": [
  {
   "cell_type": "code",
   "execution_count": 124,
   "id": "6fa08037",
   "metadata": {},
   "outputs": [],
   "source": [
    "import pandas as pd\n",
    "import numpy as np"
   ]
  },
  {
   "cell_type": "code",
   "execution_count": 125,
   "id": "f2387683",
   "metadata": {},
   "outputs": [],
   "source": [
    "df=pd.read_csv(r\"D:\\NIT\\DECEMBER\\11 DEC  (SLR(SIMPLE))\\11th - Regression model\\SIMPLE LINEAR REGRESSION\\Salary_Data.csv\")"
   ]
  },
  {
   "cell_type": "code",
   "execution_count": 126,
   "id": "803c069d",
   "metadata": {},
   "outputs": [
    {
     "data": {
      "text/html": [
       "<div>\n",
       "<style scoped>\n",
       "    .dataframe tbody tr th:only-of-type {\n",
       "        vertical-align: middle;\n",
       "    }\n",
       "\n",
       "    .dataframe tbody tr th {\n",
       "        vertical-align: top;\n",
       "    }\n",
       "\n",
       "    .dataframe thead th {\n",
       "        text-align: right;\n",
       "    }\n",
       "</style>\n",
       "<table border=\"1\" class=\"dataframe\">\n",
       "  <thead>\n",
       "    <tr style=\"text-align: right;\">\n",
       "      <th></th>\n",
       "      <th>YearsExperience</th>\n",
       "      <th>Salary</th>\n",
       "    </tr>\n",
       "  </thead>\n",
       "  <tbody>\n",
       "    <tr>\n",
       "      <th>0</th>\n",
       "      <td>1.1</td>\n",
       "      <td>39343</td>\n",
       "    </tr>\n",
       "    <tr>\n",
       "      <th>1</th>\n",
       "      <td>1.3</td>\n",
       "      <td>46205</td>\n",
       "    </tr>\n",
       "    <tr>\n",
       "      <th>2</th>\n",
       "      <td>1.5</td>\n",
       "      <td>37731</td>\n",
       "    </tr>\n",
       "    <tr>\n",
       "      <th>3</th>\n",
       "      <td>2.0</td>\n",
       "      <td>43525</td>\n",
       "    </tr>\n",
       "    <tr>\n",
       "      <th>4</th>\n",
       "      <td>2.2</td>\n",
       "      <td>39891</td>\n",
       "    </tr>\n",
       "    <tr>\n",
       "      <th>5</th>\n",
       "      <td>2.9</td>\n",
       "      <td>56642</td>\n",
       "    </tr>\n",
       "    <tr>\n",
       "      <th>6</th>\n",
       "      <td>3.0</td>\n",
       "      <td>60150</td>\n",
       "    </tr>\n",
       "    <tr>\n",
       "      <th>7</th>\n",
       "      <td>3.2</td>\n",
       "      <td>54445</td>\n",
       "    </tr>\n",
       "    <tr>\n",
       "      <th>8</th>\n",
       "      <td>3.2</td>\n",
       "      <td>64445</td>\n",
       "    </tr>\n",
       "    <tr>\n",
       "      <th>9</th>\n",
       "      <td>3.7</td>\n",
       "      <td>57189</td>\n",
       "    </tr>\n",
       "    <tr>\n",
       "      <th>10</th>\n",
       "      <td>3.9</td>\n",
       "      <td>63218</td>\n",
       "    </tr>\n",
       "    <tr>\n",
       "      <th>11</th>\n",
       "      <td>4.0</td>\n",
       "      <td>55794</td>\n",
       "    </tr>\n",
       "    <tr>\n",
       "      <th>12</th>\n",
       "      <td>4.0</td>\n",
       "      <td>56957</td>\n",
       "    </tr>\n",
       "    <tr>\n",
       "      <th>13</th>\n",
       "      <td>4.1</td>\n",
       "      <td>57081</td>\n",
       "    </tr>\n",
       "    <tr>\n",
       "      <th>14</th>\n",
       "      <td>4.5</td>\n",
       "      <td>61111</td>\n",
       "    </tr>\n",
       "    <tr>\n",
       "      <th>15</th>\n",
       "      <td>4.9</td>\n",
       "      <td>67938</td>\n",
       "    </tr>\n",
       "    <tr>\n",
       "      <th>16</th>\n",
       "      <td>5.1</td>\n",
       "      <td>66029</td>\n",
       "    </tr>\n",
       "    <tr>\n",
       "      <th>17</th>\n",
       "      <td>5.3</td>\n",
       "      <td>83088</td>\n",
       "    </tr>\n",
       "    <tr>\n",
       "      <th>18</th>\n",
       "      <td>5.9</td>\n",
       "      <td>81363</td>\n",
       "    </tr>\n",
       "    <tr>\n",
       "      <th>19</th>\n",
       "      <td>6.0</td>\n",
       "      <td>93940</td>\n",
       "    </tr>\n",
       "    <tr>\n",
       "      <th>20</th>\n",
       "      <td>6.8</td>\n",
       "      <td>91738</td>\n",
       "    </tr>\n",
       "    <tr>\n",
       "      <th>21</th>\n",
       "      <td>7.1</td>\n",
       "      <td>98273</td>\n",
       "    </tr>\n",
       "    <tr>\n",
       "      <th>22</th>\n",
       "      <td>7.9</td>\n",
       "      <td>101302</td>\n",
       "    </tr>\n",
       "    <tr>\n",
       "      <th>23</th>\n",
       "      <td>8.2</td>\n",
       "      <td>113812</td>\n",
       "    </tr>\n",
       "    <tr>\n",
       "      <th>24</th>\n",
       "      <td>8.7</td>\n",
       "      <td>109431</td>\n",
       "    </tr>\n",
       "    <tr>\n",
       "      <th>25</th>\n",
       "      <td>9.0</td>\n",
       "      <td>105582</td>\n",
       "    </tr>\n",
       "    <tr>\n",
       "      <th>26</th>\n",
       "      <td>9.5</td>\n",
       "      <td>116969</td>\n",
       "    </tr>\n",
       "    <tr>\n",
       "      <th>27</th>\n",
       "      <td>9.6</td>\n",
       "      <td>112635</td>\n",
       "    </tr>\n",
       "    <tr>\n",
       "      <th>28</th>\n",
       "      <td>10.3</td>\n",
       "      <td>122391</td>\n",
       "    </tr>\n",
       "    <tr>\n",
       "      <th>29</th>\n",
       "      <td>10.5</td>\n",
       "      <td>121872</td>\n",
       "    </tr>\n",
       "  </tbody>\n",
       "</table>\n",
       "</div>"
      ],
      "text/plain": [
       "    YearsExperience  Salary\n",
       "0               1.1   39343\n",
       "1               1.3   46205\n",
       "2               1.5   37731\n",
       "3               2.0   43525\n",
       "4               2.2   39891\n",
       "5               2.9   56642\n",
       "6               3.0   60150\n",
       "7               3.2   54445\n",
       "8               3.2   64445\n",
       "9               3.7   57189\n",
       "10              3.9   63218\n",
       "11              4.0   55794\n",
       "12              4.0   56957\n",
       "13              4.1   57081\n",
       "14              4.5   61111\n",
       "15              4.9   67938\n",
       "16              5.1   66029\n",
       "17              5.3   83088\n",
       "18              5.9   81363\n",
       "19              6.0   93940\n",
       "20              6.8   91738\n",
       "21              7.1   98273\n",
       "22              7.9  101302\n",
       "23              8.2  113812\n",
       "24              8.7  109431\n",
       "25              9.0  105582\n",
       "26              9.5  116969\n",
       "27              9.6  112635\n",
       "28             10.3  122391\n",
       "29             10.5  121872"
      ]
     },
     "execution_count": 126,
     "metadata": {},
     "output_type": "execute_result"
    }
   ],
   "source": [
    "df"
   ]
  },
  {
   "cell_type": "markdown",
   "id": "7faed373",
   "metadata": {},
   "source": [
    "# mean"
   ]
  },
  {
   "cell_type": "code",
   "execution_count": 127,
   "id": "6ae7d48f",
   "metadata": {},
   "outputs": [
    {
     "data": {
      "text/plain": [
       "YearsExperience        5.313333\n",
       "Salary             76003.000000\n",
       "dtype: float64"
      ]
     },
     "execution_count": 127,
     "metadata": {},
     "output_type": "execute_result"
    }
   ],
   "source": [
    "df.mean()"
   ]
  },
  {
   "cell_type": "code",
   "execution_count": 128,
   "id": "57c1b680",
   "metadata": {},
   "outputs": [
    {
     "data": {
      "text/plain": [
       "76003.0"
      ]
     },
     "execution_count": 128,
     "metadata": {},
     "output_type": "execute_result"
    }
   ],
   "source": [
    "df[\"Salary\"].mean()"
   ]
  },
  {
   "cell_type": "markdown",
   "id": "9073308b",
   "metadata": {},
   "source": [
    "# median"
   ]
  },
  {
   "cell_type": "code",
   "execution_count": 129,
   "id": "bf05bda9",
   "metadata": {},
   "outputs": [
    {
     "data": {
      "text/plain": [
       "YearsExperience        4.7\n",
       "Salary             65237.0\n",
       "dtype: float64"
      ]
     },
     "execution_count": 129,
     "metadata": {},
     "output_type": "execute_result"
    }
   ],
   "source": [
    "df.median() # this will give median of entire dataframe \n"
   ]
  },
  {
   "cell_type": "code",
   "execution_count": 130,
   "id": "9472fdd8",
   "metadata": {},
   "outputs": [
    {
     "data": {
      "text/plain": [
       "65237.0"
      ]
     },
     "execution_count": 130,
     "metadata": {},
     "output_type": "execute_result"
    }
   ],
   "source": [
    "df['Salary'].median() # this will give us median of that particular column "
   ]
  },
  {
   "cell_type": "markdown",
   "id": "2311ec37",
   "metadata": {},
   "source": [
    "# Mode\n"
   ]
  },
  {
   "cell_type": "code",
   "execution_count": 131,
   "id": "84200b6f",
   "metadata": {},
   "outputs": [
    {
     "data": {
      "text/plain": [
       "0      37731\n",
       "1      39343\n",
       "2      39891\n",
       "3      43525\n",
       "4      46205\n",
       "5      54445\n",
       "6      55794\n",
       "7      56642\n",
       "8      56957\n",
       "9      57081\n",
       "10     57189\n",
       "11     60150\n",
       "12     61111\n",
       "13     63218\n",
       "14     64445\n",
       "15     66029\n",
       "16     67938\n",
       "17     81363\n",
       "18     83088\n",
       "19     91738\n",
       "20     93940\n",
       "21     98273\n",
       "22    101302\n",
       "23    105582\n",
       "24    109431\n",
       "25    112635\n",
       "26    113812\n",
       "27    116969\n",
       "28    121872\n",
       "29    122391\n",
       "Name: Salary, dtype: int64"
      ]
     },
     "execution_count": 131,
     "metadata": {},
     "output_type": "execute_result"
    }
   ],
   "source": [
    "df['Salary'].mode() # this will give us mode of that particular column \n"
   ]
  },
  {
   "cell_type": "markdown",
   "id": "a1bd8bdc",
   "metadata": {},
   "source": [
    "# Variance\n"
   ]
  },
  {
   "cell_type": "code",
   "execution_count": 132,
   "id": "93e78aeb",
   "metadata": {},
   "outputs": [
    {
     "data": {
      "text/plain": [
       "YearsExperience    8.053609e+00\n",
       "Salary             7.515510e+08\n",
       "dtype: float64"
      ]
     },
     "execution_count": 132,
     "metadata": {},
     "output_type": "execute_result"
    }
   ],
   "source": [
    "df.var() # this will give variance of entire dataframe "
   ]
  },
  {
   "cell_type": "code",
   "execution_count": 133,
   "id": "f56998a0",
   "metadata": {},
   "outputs": [
    {
     "data": {
      "text/plain": [
       "751550960.4137931"
      ]
     },
     "execution_count": 133,
     "metadata": {},
     "output_type": "execute_result"
    }
   ],
   "source": [
    "df['Salary'].var() # this will give us variance of that particular column\n"
   ]
  },
  {
   "cell_type": "markdown",
   "id": "a53ddf80",
   "metadata": {},
   "source": [
    "# Standard deviation\n"
   ]
  },
  {
   "cell_type": "code",
   "execution_count": 134,
   "id": "c02a6c19",
   "metadata": {},
   "outputs": [
    {
     "data": {
      "text/plain": [
       "YearsExperience        2.837888\n",
       "Salary             27414.429785\n",
       "dtype: float64"
      ]
     },
     "execution_count": 134,
     "metadata": {},
     "output_type": "execute_result"
    }
   ],
   "source": [
    "df.std() # this will give standard deviation of entire dataframe \n"
   ]
  },
  {
   "cell_type": "code",
   "execution_count": 135,
   "id": "0220de7b",
   "metadata": {},
   "outputs": [
    {
     "data": {
      "text/plain": [
       "27414.4297845823"
      ]
     },
     "execution_count": 135,
     "metadata": {},
     "output_type": "execute_result"
    }
   ],
   "source": [
    "df['Salary'].std() # this will give us standard deviation of that particular column\n"
   ]
  },
  {
   "cell_type": "markdown",
   "id": "fb684cb8",
   "metadata": {},
   "source": [
    "# Correlation"
   ]
  },
  {
   "cell_type": "code",
   "execution_count": 136,
   "id": "059c7b4b",
   "metadata": {},
   "outputs": [
    {
     "data": {
      "text/html": [
       "<div>\n",
       "<style scoped>\n",
       "    .dataframe tbody tr th:only-of-type {\n",
       "        vertical-align: middle;\n",
       "    }\n",
       "\n",
       "    .dataframe tbody tr th {\n",
       "        vertical-align: top;\n",
       "    }\n",
       "\n",
       "    .dataframe thead th {\n",
       "        text-align: right;\n",
       "    }\n",
       "</style>\n",
       "<table border=\"1\" class=\"dataframe\">\n",
       "  <thead>\n",
       "    <tr style=\"text-align: right;\">\n",
       "      <th></th>\n",
       "      <th>YearsExperience</th>\n",
       "      <th>Salary</th>\n",
       "    </tr>\n",
       "  </thead>\n",
       "  <tbody>\n",
       "    <tr>\n",
       "      <th>YearsExperience</th>\n",
       "      <td>1.000000</td>\n",
       "      <td>0.978242</td>\n",
       "    </tr>\n",
       "    <tr>\n",
       "      <th>Salary</th>\n",
       "      <td>0.978242</td>\n",
       "      <td>1.000000</td>\n",
       "    </tr>\n",
       "  </tbody>\n",
       "</table>\n",
       "</div>"
      ],
      "text/plain": [
       "                 YearsExperience    Salary\n",
       "YearsExperience         1.000000  0.978242\n",
       "Salary                  0.978242  1.000000"
      ]
     },
     "execution_count": 136,
     "metadata": {},
     "output_type": "execute_result"
    }
   ],
   "source": [
    "df.corr() # this will give correlation of entire dataframe\n"
   ]
  },
  {
   "cell_type": "code",
   "execution_count": 137,
   "id": "ec8409cf",
   "metadata": {},
   "outputs": [
    {
     "data": {
      "text/plain": [
       "0.9782416184887598"
      ]
     },
     "execution_count": 137,
     "metadata": {},
     "output_type": "execute_result"
    }
   ],
   "source": [
    "df['Salary'].corr(df['YearsExperience']) # this will give us correlation between these tw\n"
   ]
  },
  {
   "cell_type": "markdown",
   "id": "ebfa8f77",
   "metadata": {},
   "source": [
    "# Skewness"
   ]
  },
  {
   "cell_type": "code",
   "execution_count": 138,
   "id": "6b13a953",
   "metadata": {},
   "outputs": [
    {
     "data": {
      "text/plain": [
       "YearsExperience    0.37956\n",
       "Salary             0.35412\n",
       "dtype: float64"
      ]
     },
     "execution_count": 138,
     "metadata": {},
     "output_type": "execute_result"
    }
   ],
   "source": [
    "df.skew() # this will give skewness of entire dataframe \n"
   ]
  },
  {
   "cell_type": "code",
   "execution_count": 139,
   "id": "636a421b",
   "metadata": {},
   "outputs": [
    {
     "data": {
      "text/plain": [
       "0.35411967922959153"
      ]
     },
     "execution_count": 139,
     "metadata": {},
     "output_type": "execute_result"
    }
   ],
   "source": [
    "df['Salary'].skew() # this will give us skewness of that particular column\n"
   ]
  },
  {
   "cell_type": "markdown",
   "id": "1e580553",
   "metadata": {},
   "source": [
    "# Standard Error"
   ]
  },
  {
   "cell_type": "code",
   "execution_count": 140,
   "id": "2f1129a4",
   "metadata": {},
   "outputs": [
    {
     "data": {
      "text/plain": [
       "YearsExperience       0.518125\n",
       "Salary             5005.167198\n",
       "dtype: float64"
      ]
     },
     "execution_count": 140,
     "metadata": {},
     "output_type": "execute_result"
    }
   ],
   "source": [
    "df.sem() # this will give standard error of entire dataframe "
   ]
  },
  {
   "cell_type": "code",
   "execution_count": 141,
   "id": "d1df3c05",
   "metadata": {},
   "outputs": [
    {
     "data": {
      "text/plain": [
       "5005.167198052405"
      ]
     },
     "execution_count": 141,
     "metadata": {},
     "output_type": "execute_result"
    }
   ],
   "source": [
    "df['Salary'].sem() # this will give us standard error of that particular column"
   ]
  },
  {
   "cell_type": "markdown",
   "id": "3875455c",
   "metadata": {},
   "source": [
    "# Coefficient of variation(cv)\n"
   ]
  },
  {
   "cell_type": "code",
   "execution_count": 142,
   "id": "1b8281b6",
   "metadata": {},
   "outputs": [
    {
     "data": {
      "text/plain": [
       "array([0.5251297 , 0.35463929])"
      ]
     },
     "execution_count": 142,
     "metadata": {},
     "output_type": "execute_result"
    }
   ],
   "source": [
    "# for calculating cv we have to import a library first\n",
    "from scipy.stats import variation\n",
    "variation(df.values) # this will give cv of entire dataframe "
   ]
  },
  {
   "cell_type": "code",
   "execution_count": 143,
   "id": "7f8ab05c",
   "metadata": {},
   "outputs": [
    {
     "data": {
      "text/plain": [
       "0.3546392938275572"
      ]
     },
     "execution_count": 143,
     "metadata": {},
     "output_type": "execute_result"
    }
   ],
   "source": [
    "variation(df['Salary']) # this will give us cv of that particular column"
   ]
  },
  {
   "cell_type": "markdown",
   "id": "35aa910e",
   "metadata": {},
   "source": [
    "# Z-score"
   ]
  },
  {
   "cell_type": "code",
   "execution_count": 144,
   "id": "a92e2bcb",
   "metadata": {},
   "outputs": [
    {
     "data": {
      "text/html": [
       "<div>\n",
       "<style scoped>\n",
       "    .dataframe tbody tr th:only-of-type {\n",
       "        vertical-align: middle;\n",
       "    }\n",
       "\n",
       "    .dataframe tbody tr th {\n",
       "        vertical-align: top;\n",
       "    }\n",
       "\n",
       "    .dataframe thead th {\n",
       "        text-align: right;\n",
       "    }\n",
       "</style>\n",
       "<table border=\"1\" class=\"dataframe\">\n",
       "  <thead>\n",
       "    <tr style=\"text-align: right;\">\n",
       "      <th></th>\n",
       "      <th>YearsExperience</th>\n",
       "      <th>Salary</th>\n",
       "    </tr>\n",
       "  </thead>\n",
       "  <tbody>\n",
       "    <tr>\n",
       "      <th>0</th>\n",
       "      <td>-1.510053</td>\n",
       "      <td>-1.360113</td>\n",
       "    </tr>\n",
       "    <tr>\n",
       "      <th>1</th>\n",
       "      <td>-1.438373</td>\n",
       "      <td>-1.105527</td>\n",
       "    </tr>\n",
       "    <tr>\n",
       "      <th>2</th>\n",
       "      <td>-1.366693</td>\n",
       "      <td>-1.419919</td>\n",
       "    </tr>\n",
       "    <tr>\n",
       "      <th>3</th>\n",
       "      <td>-1.187494</td>\n",
       "      <td>-1.204957</td>\n",
       "    </tr>\n",
       "    <tr>\n",
       "      <th>4</th>\n",
       "      <td>-1.115814</td>\n",
       "      <td>-1.339781</td>\n",
       "    </tr>\n",
       "    <tr>\n",
       "      <th>5</th>\n",
       "      <td>-0.864935</td>\n",
       "      <td>-0.718307</td>\n",
       "    </tr>\n",
       "    <tr>\n",
       "      <th>6</th>\n",
       "      <td>-0.829096</td>\n",
       "      <td>-0.588158</td>\n",
       "    </tr>\n",
       "    <tr>\n",
       "      <th>7</th>\n",
       "      <td>-0.757416</td>\n",
       "      <td>-0.799817</td>\n",
       "    </tr>\n",
       "    <tr>\n",
       "      <th>8</th>\n",
       "      <td>-0.757416</td>\n",
       "      <td>-0.428810</td>\n",
       "    </tr>\n",
       "    <tr>\n",
       "      <th>9</th>\n",
       "      <td>-0.578216</td>\n",
       "      <td>-0.698013</td>\n",
       "    </tr>\n",
       "    <tr>\n",
       "      <th>10</th>\n",
       "      <td>-0.506537</td>\n",
       "      <td>-0.474333</td>\n",
       "    </tr>\n",
       "    <tr>\n",
       "      <th>11</th>\n",
       "      <td>-0.470697</td>\n",
       "      <td>-0.749769</td>\n",
       "    </tr>\n",
       "    <tr>\n",
       "      <th>12</th>\n",
       "      <td>-0.470697</td>\n",
       "      <td>-0.706620</td>\n",
       "    </tr>\n",
       "    <tr>\n",
       "      <th>13</th>\n",
       "      <td>-0.434857</td>\n",
       "      <td>-0.702020</td>\n",
       "    </tr>\n",
       "    <tr>\n",
       "      <th>14</th>\n",
       "      <td>-0.291498</td>\n",
       "      <td>-0.552504</td>\n",
       "    </tr>\n",
       "    <tr>\n",
       "      <th>15</th>\n",
       "      <td>-0.148138</td>\n",
       "      <td>-0.299217</td>\n",
       "    </tr>\n",
       "    <tr>\n",
       "      <th>16</th>\n",
       "      <td>-0.076458</td>\n",
       "      <td>-0.370043</td>\n",
       "    </tr>\n",
       "    <tr>\n",
       "      <th>17</th>\n",
       "      <td>-0.004779</td>\n",
       "      <td>0.262859</td>\n",
       "    </tr>\n",
       "    <tr>\n",
       "      <th>18</th>\n",
       "      <td>0.210261</td>\n",
       "      <td>0.198860</td>\n",
       "    </tr>\n",
       "    <tr>\n",
       "      <th>19</th>\n",
       "      <td>0.246100</td>\n",
       "      <td>0.665476</td>\n",
       "    </tr>\n",
       "    <tr>\n",
       "      <th>20</th>\n",
       "      <td>0.532819</td>\n",
       "      <td>0.583780</td>\n",
       "    </tr>\n",
       "    <tr>\n",
       "      <th>21</th>\n",
       "      <td>0.640339</td>\n",
       "      <td>0.826233</td>\n",
       "    </tr>\n",
       "    <tr>\n",
       "      <th>22</th>\n",
       "      <td>0.927058</td>\n",
       "      <td>0.938611</td>\n",
       "    </tr>\n",
       "    <tr>\n",
       "      <th>23</th>\n",
       "      <td>1.034577</td>\n",
       "      <td>1.402741</td>\n",
       "    </tr>\n",
       "    <tr>\n",
       "      <th>24</th>\n",
       "      <td>1.213777</td>\n",
       "      <td>1.240203</td>\n",
       "    </tr>\n",
       "    <tr>\n",
       "      <th>25</th>\n",
       "      <td>1.321296</td>\n",
       "      <td>1.097402</td>\n",
       "    </tr>\n",
       "    <tr>\n",
       "      <th>26</th>\n",
       "      <td>1.500496</td>\n",
       "      <td>1.519868</td>\n",
       "    </tr>\n",
       "    <tr>\n",
       "      <th>27</th>\n",
       "      <td>1.536336</td>\n",
       "      <td>1.359074</td>\n",
       "    </tr>\n",
       "    <tr>\n",
       "      <th>28</th>\n",
       "      <td>1.787215</td>\n",
       "      <td>1.721028</td>\n",
       "    </tr>\n",
       "    <tr>\n",
       "      <th>29</th>\n",
       "      <td>1.858894</td>\n",
       "      <td>1.701773</td>\n",
       "    </tr>\n",
       "  </tbody>\n",
       "</table>\n",
       "</div>"
      ],
      "text/plain": [
       "    YearsExperience    Salary\n",
       "0         -1.510053 -1.360113\n",
       "1         -1.438373 -1.105527\n",
       "2         -1.366693 -1.419919\n",
       "3         -1.187494 -1.204957\n",
       "4         -1.115814 -1.339781\n",
       "5         -0.864935 -0.718307\n",
       "6         -0.829096 -0.588158\n",
       "7         -0.757416 -0.799817\n",
       "8         -0.757416 -0.428810\n",
       "9         -0.578216 -0.698013\n",
       "10        -0.506537 -0.474333\n",
       "11        -0.470697 -0.749769\n",
       "12        -0.470697 -0.706620\n",
       "13        -0.434857 -0.702020\n",
       "14        -0.291498 -0.552504\n",
       "15        -0.148138 -0.299217\n",
       "16        -0.076458 -0.370043\n",
       "17        -0.004779  0.262859\n",
       "18         0.210261  0.198860\n",
       "19         0.246100  0.665476\n",
       "20         0.532819  0.583780\n",
       "21         0.640339  0.826233\n",
       "22         0.927058  0.938611\n",
       "23         1.034577  1.402741\n",
       "24         1.213777  1.240203\n",
       "25         1.321296  1.097402\n",
       "26         1.500496  1.519868\n",
       "27         1.536336  1.359074\n",
       "28         1.787215  1.721028\n",
       "29         1.858894  1.701773"
      ]
     },
     "execution_count": 144,
     "metadata": {},
     "output_type": "execute_result"
    }
   ],
   "source": [
    "# for calculating Z-score we have to import a library first\n",
    "import scipy.stats as stats\n",
    "df.apply(stats.zscore) # this will give Z-score of entire dataframe"
   ]
  },
  {
   "cell_type": "code",
   "execution_count": 145,
   "id": "93e6eedc",
   "metadata": {},
   "outputs": [
    {
     "data": {
      "text/plain": [
       "0    -1.360113\n",
       "1    -1.105527\n",
       "2    -1.419919\n",
       "3    -1.204957\n",
       "4    -1.339781\n",
       "5    -0.718307\n",
       "6    -0.588158\n",
       "7    -0.799817\n",
       "8    -0.428810\n",
       "9    -0.698013\n",
       "10   -0.474333\n",
       "11   -0.749769\n",
       "12   -0.706620\n",
       "13   -0.702020\n",
       "14   -0.552504\n",
       "15   -0.299217\n",
       "16   -0.370043\n",
       "17    0.262859\n",
       "18    0.198860\n",
       "19    0.665476\n",
       "20    0.583780\n",
       "21    0.826233\n",
       "22    0.938611\n",
       "23    1.402741\n",
       "24    1.240203\n",
       "25    1.097402\n",
       "26    1.519868\n",
       "27    1.359074\n",
       "28    1.721028\n",
       "29    1.701773\n",
       "Name: Salary, dtype: float64"
      ]
     },
     "execution_count": 145,
     "metadata": {},
     "output_type": "execute_result"
    }
   ],
   "source": [
    "stats.zscore(df['Salary']) # this will give us Z-score of that particular column\n"
   ]
  },
  {
   "cell_type": "markdown",
   "id": "e4b0bcac",
   "metadata": {},
   "source": [
    "# Degree of Freedom"
   ]
  },
  {
   "cell_type": "code",
   "execution_count": 146,
   "id": "e83a2fa6",
   "metadata": {},
   "outputs": [
    {
     "data": {
      "text/plain": [
       "(30, 2)"
      ]
     },
     "execution_count": 146,
     "metadata": {},
     "output_type": "execute_result"
    }
   ],
   "source": [
    "df.shape\n"
   ]
  },
  {
   "cell_type": "code",
   "execution_count": 147,
   "id": "def588ee",
   "metadata": {},
   "outputs": [],
   "source": [
    "a = df.shape[0] # this will gives us no.of rows\n",
    "b = df.shape[1] # this will give us no.of columns\n"
   ]
  },
  {
   "cell_type": "code",
   "execution_count": 148,
   "id": "e3c8988f",
   "metadata": {},
   "outputs": [
    {
     "name": "stdout",
     "output_type": "stream",
     "text": [
      "30\n",
      "2\n"
     ]
    }
   ],
   "source": [
    "print(a)\n",
    "print(b)"
   ]
  },
  {
   "cell_type": "code",
   "execution_count": 149,
   "id": "01df7182",
   "metadata": {},
   "outputs": [
    {
     "name": "stdout",
     "output_type": "stream",
     "text": [
      "28\n"
     ]
    }
   ],
   "source": [
    "degree_of_freedom = a-b\n",
    "print(degree_of_freedom) # this will give us degree of freedom for entire dataset"
   ]
  },
  {
   "cell_type": "markdown",
   "id": "d8fb37e5",
   "metadata": {},
   "source": [
    "# Sum of Squares Regression (SSR)"
   ]
  },
  {
   "cell_type": "code",
   "execution_count": 150,
   "id": "cbad0aaf",
   "metadata": {},
   "outputs": [],
   "source": [
    "#First we have to separate dependent and independent variables\n",
    "X=df.iloc[:,:-1].values #independent variable\n",
    "y=df.iloc[:,1].values # dependent variable\n"
   ]
  },
  {
   "cell_type": "code",
   "execution_count": 151,
   "id": "5ce51619",
   "metadata": {},
   "outputs": [
    {
     "name": "stdout",
     "output_type": "stream",
     "text": [
      "[[ 1.1]\n",
      " [ 1.3]\n",
      " [ 1.5]\n",
      " [ 2. ]\n",
      " [ 2.2]\n",
      " [ 2.9]\n",
      " [ 3. ]\n",
      " [ 3.2]\n",
      " [ 3.2]\n",
      " [ 3.7]\n",
      " [ 3.9]\n",
      " [ 4. ]\n",
      " [ 4. ]\n",
      " [ 4.1]\n",
      " [ 4.5]\n",
      " [ 4.9]\n",
      " [ 5.1]\n",
      " [ 5.3]\n",
      " [ 5.9]\n",
      " [ 6. ]\n",
      " [ 6.8]\n",
      " [ 7.1]\n",
      " [ 7.9]\n",
      " [ 8.2]\n",
      " [ 8.7]\n",
      " [ 9. ]\n",
      " [ 9.5]\n",
      " [ 9.6]\n",
      " [10.3]\n",
      " [10.5]] [ 39343  46205  37731  43525  39891  56642  60150  54445  64445  57189\n",
      "  63218  55794  56957  57081  61111  67938  66029  83088  81363  93940\n",
      "  91738  98273 101302 113812 109431 105582 116969 112635 122391 121872]\n"
     ]
    }
   ],
   "source": [
    "print(X,y)"
   ]
  },
  {
   "cell_type": "code",
   "execution_count": 152,
   "id": "bd19b8a5",
   "metadata": {},
   "outputs": [],
   "source": [
    "y_mean = np.mean(y) # this will calculate mean of dependent variable"
   ]
  },
  {
   "cell_type": "code",
   "execution_count": 153,
   "id": "0f3bcb07",
   "metadata": {},
   "outputs": [
    {
     "data": {
      "text/plain": [
       "76003.0"
      ]
     },
     "execution_count": 153,
     "metadata": {},
     "output_type": "execute_result"
    }
   ],
   "source": [
    "y_mean"
   ]
  },
  {
   "cell_type": "code",
   "execution_count": 154,
   "id": "3b27b8b0",
   "metadata": {},
   "outputs": [],
   "source": [
    "from sklearn.model_selection import train_test_split\n",
    "X_train,X_test,y_train,y_test = train_test_split(X,y,test_size=0.20,random_state=0)"
   ]
  },
  {
   "cell_type": "code",
   "execution_count": 155,
   "id": "48ab83ae",
   "metadata": {},
   "outputs": [
    {
     "data": {
      "text/plain": [
       "(array([[ 9.6],\n",
       "        [ 4. ],\n",
       "        [ 5.3],\n",
       "        [ 7.9],\n",
       "        [ 2.9],\n",
       "        [ 5.1],\n",
       "        [ 3.2],\n",
       "        [ 4.5],\n",
       "        [ 8.2],\n",
       "        [ 6.8],\n",
       "        [ 1.3],\n",
       "        [10.5],\n",
       "        [ 3. ],\n",
       "        [ 2.2],\n",
       "        [ 5.9],\n",
       "        [ 6. ],\n",
       "        [ 3.7],\n",
       "        [ 3.2],\n",
       "        [ 9. ],\n",
       "        [ 2. ],\n",
       "        [ 1.1],\n",
       "        [ 7.1],\n",
       "        [ 4.9],\n",
       "        [ 4. ]]),\n",
       " array([[ 1.5],\n",
       "        [10.3],\n",
       "        [ 4.1],\n",
       "        [ 3.9],\n",
       "        [ 9.5],\n",
       "        [ 8.7]]),\n",
       " array([112635,  55794,  83088, 101302,  56642,  66029,  64445,  61111,\n",
       "        113812,  91738,  46205, 121872,  60150,  39891,  81363,  93940,\n",
       "         57189,  54445, 105582,  43525,  39343,  98273,  67938,  56957],\n",
       "       dtype=int64),\n",
       " array([ 37731, 122391,  57081,  63218, 116969, 109431], dtype=int64))"
      ]
     },
     "execution_count": 155,
     "metadata": {},
     "output_type": "execute_result"
    }
   ],
   "source": [
    "X_train,X_test,y_train,y_test"
   ]
  },
  {
   "cell_type": "code",
   "execution_count": 156,
   "id": "34bdf383",
   "metadata": {},
   "outputs": [],
   "source": [
    "from sklearn.linear_model import LinearRegression\n",
    "reg = LinearRegression()\n",
    "reg.fit(X_train,y_train)\n",
    "y_predict = reg.predict(X_test) # before doing this we have to train,test and split our "
   ]
  },
  {
   "cell_type": "code",
   "execution_count": 157,
   "id": "7da6a31e",
   "metadata": {},
   "outputs": [
    {
     "data": {
      "text/plain": [
       "array([ 40748.96184072, 122699.62295594,  64961.65717022,  63099.14214487,\n",
       "       115249.56285456, 107799.50275317])"
      ]
     },
     "execution_count": 157,
     "metadata": {},
     "output_type": "execute_result"
    }
   ],
   "source": [
    "y_predict"
   ]
  },
  {
   "cell_type": "code",
   "execution_count": 158,
   "id": "d810de5d",
   "metadata": {},
   "outputs": [],
   "source": [
    "SSR = np.sum((y_predict-y_mean)**2)"
   ]
  },
  {
   "cell_type": "code",
   "execution_count": 159,
   "id": "42a9c2b7",
   "metadata": {},
   "outputs": [
    {
     "data": {
      "text/plain": [
       "6263152884.284127"
      ]
     },
     "execution_count": 159,
     "metadata": {},
     "output_type": "execute_result"
    }
   ],
   "source": [
    "SSR"
   ]
  },
  {
   "cell_type": "markdown",
   "id": "ab9861fd",
   "metadata": {},
   "source": [
    "# Sum of Squares Error (SSE)\n"
   ]
  },
  {
   "cell_type": "code",
   "execution_count": 160,
   "id": "2cbf8211",
   "metadata": {},
   "outputs": [],
   "source": [
    "#First we have to separate dependent and independent variables\n",
    "X=df.iloc[:,:-1].values #independent variable\n",
    "y=df.iloc[:,1].values # dependent variable\n"
   ]
  },
  {
   "cell_type": "code",
   "execution_count": 161,
   "id": "c88c4a8d",
   "metadata": {},
   "outputs": [
    {
     "name": "stdout",
     "output_type": "stream",
     "text": [
      "[[ 1.1]\n",
      " [ 1.3]\n",
      " [ 1.5]\n",
      " [ 2. ]\n",
      " [ 2.2]\n",
      " [ 2.9]\n",
      " [ 3. ]\n",
      " [ 3.2]\n",
      " [ 3.2]\n",
      " [ 3.7]\n",
      " [ 3.9]\n",
      " [ 4. ]\n",
      " [ 4. ]\n",
      " [ 4.1]\n",
      " [ 4.5]\n",
      " [ 4.9]\n",
      " [ 5.1]\n",
      " [ 5.3]\n",
      " [ 5.9]\n",
      " [ 6. ]\n",
      " [ 6.8]\n",
      " [ 7.1]\n",
      " [ 7.9]\n",
      " [ 8.2]\n",
      " [ 8.7]\n",
      " [ 9. ]\n",
      " [ 9.5]\n",
      " [ 9.6]\n",
      " [10.3]\n",
      " [10.5]] [ 39343  46205  37731  43525  39891  56642  60150  54445  64445  57189\n",
      "  63218  55794  56957  57081  61111  67938  66029  83088  81363  93940\n",
      "  91738  98273 101302 113812 109431 105582 116969 112635 122391 121872]\n"
     ]
    }
   ],
   "source": [
    "print(X,y)"
   ]
  },
  {
   "cell_type": "code",
   "execution_count": 162,
   "id": "cae04a25",
   "metadata": {},
   "outputs": [],
   "source": [
    "from sklearn.model_selection import train_test_split\n",
    "X_train,X_test,y_train,y_test = train_test_split(X,y,test_size=0.20,random_state=0)"
   ]
  },
  {
   "cell_type": "code",
   "execution_count": 163,
   "id": "84e0f7e7",
   "metadata": {},
   "outputs": [
    {
     "data": {
      "text/plain": [
       "(array([[ 9.6],\n",
       "        [ 4. ],\n",
       "        [ 5.3],\n",
       "        [ 7.9],\n",
       "        [ 2.9],\n",
       "        [ 5.1],\n",
       "        [ 3.2],\n",
       "        [ 4.5],\n",
       "        [ 8.2],\n",
       "        [ 6.8],\n",
       "        [ 1.3],\n",
       "        [10.5],\n",
       "        [ 3. ],\n",
       "        [ 2.2],\n",
       "        [ 5.9],\n",
       "        [ 6. ],\n",
       "        [ 3.7],\n",
       "        [ 3.2],\n",
       "        [ 9. ],\n",
       "        [ 2. ],\n",
       "        [ 1.1],\n",
       "        [ 7.1],\n",
       "        [ 4.9],\n",
       "        [ 4. ]]),\n",
       " array([[ 1.5],\n",
       "        [10.3],\n",
       "        [ 4.1],\n",
       "        [ 3.9],\n",
       "        [ 9.5],\n",
       "        [ 8.7]]),\n",
       " array([112635,  55794,  83088, 101302,  56642,  66029,  64445,  61111,\n",
       "        113812,  91738,  46205, 121872,  60150,  39891,  81363,  93940,\n",
       "         57189,  54445, 105582,  43525,  39343,  98273,  67938,  56957],\n",
       "       dtype=int64),\n",
       " array([ 37731, 122391,  57081,  63218, 116969, 109431], dtype=int64))"
      ]
     },
     "execution_count": 163,
     "metadata": {},
     "output_type": "execute_result"
    }
   ],
   "source": [
    "X_train,X_test,y_train,y_test"
   ]
  },
  {
   "cell_type": "code",
   "execution_count": 164,
   "id": "4596ac4c",
   "metadata": {},
   "outputs": [],
   "source": [
    "from sklearn.linear_model import LinearRegression\n",
    "reg = LinearRegression()\n",
    "reg.fit(X_train,y_train)\n",
    "y_predict = reg.predict(X_test) # before doing this we have to train,test and split our"
   ]
  },
  {
   "cell_type": "code",
   "execution_count": 165,
   "id": "e7d7948d",
   "metadata": {},
   "outputs": [
    {
     "data": {
      "text/plain": [
       "array([ 40748.96184072, 122699.62295594,  64961.65717022,  63099.14214487,\n",
       "       115249.56285456, 107799.50275317])"
      ]
     },
     "execution_count": 165,
     "metadata": {},
     "output_type": "execute_result"
    }
   ],
   "source": [
    "y_predict "
   ]
  },
  {
   "cell_type": "code",
   "execution_count": 166,
   "id": "ef03c2d1",
   "metadata": {},
   "outputs": [],
   "source": [
    "y = y[0:6]"
   ]
  },
  {
   "cell_type": "code",
   "execution_count": 167,
   "id": "1a47832c",
   "metadata": {},
   "outputs": [
    {
     "data": {
      "text/plain": [
       "array([39343, 46205, 37731, 43525, 39891, 56642], dtype=int64)"
      ]
     },
     "execution_count": 167,
     "metadata": {},
     "output_type": "execute_result"
    }
   ],
   "source": [
    "y"
   ]
  },
  {
   "cell_type": "code",
   "execution_count": 168,
   "id": "3400828c",
   "metadata": {},
   "outputs": [
    {
     "name": "stdout",
     "output_type": "stream",
     "text": [
      "15274062883.9432\n"
     ]
    }
   ],
   "source": [
    "SSE = np.sum((y-y_predict)**2)\n",
    "print(SSE)"
   ]
  },
  {
   "cell_type": "markdown",
   "id": "478befef",
   "metadata": {},
   "source": [
    "# Sum of Squares Total (SST)\n"
   ]
  },
  {
   "cell_type": "code",
   "execution_count": 169,
   "id": "21c52978",
   "metadata": {},
   "outputs": [
    {
     "data": {
      "text/plain": [
       "38004.15666666666"
      ]
     },
     "execution_count": 169,
     "metadata": {},
     "output_type": "execute_result"
    }
   ],
   "source": [
    "np.mean(df.values) "
   ]
  },
  {
   "cell_type": "code",
   "execution_count": 170,
   "id": "2751adf0",
   "metadata": {},
   "outputs": [
    {
     "name": "stdout",
     "output_type": "stream",
     "text": [
      "108429703765.82735\n"
     ]
    }
   ],
   "source": [
    "mean_total = np.mean(df.values) # here df.to_numpy()will convert pandas Dataframe to Nump\n",
    "SST = np.sum((df.values-mean_total)**2)\n",
    "print(SST)"
   ]
  },
  {
   "cell_type": "markdown",
   "id": "a2444743",
   "metadata": {},
   "source": [
    "# R-Square\n"
   ]
  },
  {
   "cell_type": "code",
   "execution_count": 171,
   "id": "b09e0c7b",
   "metadata": {},
   "outputs": [
    {
     "data": {
      "text/plain": [
       "0.9422376648947554"
      ]
     },
     "execution_count": 171,
     "metadata": {},
     "output_type": "execute_result"
    }
   ],
   "source": [
    "r_square = 1-(SSR/SST)\n",
    "r_square"
   ]
  },
  {
   "cell_type": "code",
   "execution_count": null,
   "id": "fea3fc00",
   "metadata": {},
   "outputs": [],
   "source": []
  },
  {
   "cell_type": "code",
   "execution_count": null,
   "id": "85a3f111",
   "metadata": {},
   "outputs": [],
   "source": []
  },
  {
   "cell_type": "code",
   "execution_count": null,
   "id": "142e21c4",
   "metadata": {},
   "outputs": [],
   "source": []
  }
 ],
 "metadata": {
  "kernelspec": {
   "display_name": "Python 3 (ipykernel)",
   "language": "python",
   "name": "python3"
  },
  "language_info": {
   "codemirror_mode": {
    "name": "ipython",
    "version": 3
   },
   "file_extension": ".py",
   "mimetype": "text/x-python",
   "name": "python",
   "nbconvert_exporter": "python",
   "pygments_lexer": "ipython3",
   "version": "3.11.3"
  }
 },
 "nbformat": 4,
 "nbformat_minor": 5
}
